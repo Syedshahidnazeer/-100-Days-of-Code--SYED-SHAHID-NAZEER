{
 "cells": [
  {
   "cell_type": "markdown",
   "metadata": {},
   "source": [
    "Day 3 Goals\n",
    "\n",
    "Conditional statements\n",
    "Logical Operators\n",
    "Code blocks and\n",
    "Scope\n",
    "\n",
    "Project - Choose Your Adventure Game - Find the treasure "
   ]
  },
  {
   "cell_type": "code",
   "execution_count": 18,
   "metadata": {},
   "outputs": [
    {
     "name": "stdout",
     "output_type": "stream",
     "text": [
      "continue filling\n"
     ]
    }
   ],
   "source": [
    "# Control Flow with if/else and conditional operators\n",
    "# bath tub never overflows because of overflow hole\n",
    "# when water reaches 80 percent drain the excess otherwise not\n",
    "\n",
    "\"\"\"if condtion:\n",
    "    do this\n",
    "else:\n",
    "    do this\"\"\"\n",
    "\n",
    "water_level = 50\n",
    "\n",
    "if water_level>80:\n",
    "    print(\"don't drain\")\n",
    "else:\n",
    "    print(\"continue filling\")\n"
   ]
  },
  {
   "cell_type": "code",
   "execution_count": 19,
   "metadata": {},
   "outputs": [
    {
     "name": "stdout",
     "output_type": "stream",
     "text": [
      " Welcome To The Oslo Theme Park\n",
      " Wanna Hop On a Ride With Dinocoaster\n",
      " Nah Nah Nah not so fast bud fill this first\n",
      "Have a Wonderful Ride!\n"
     ]
    }
   ],
   "source": [
    "# Theme Park - real life problem\n",
    "# code to replace the ticket box\n",
    "# condition height > 120 cm\n",
    "# Indentation is the main error thats gonna hunt you back if your are not attentive\n",
    "\n",
    "print(\" Welcome To The Oslo Theme Park\")\n",
    "print(\" Wanna Hop On a Ride With Dinocoaster\")\n",
    "print(\" Nah Nah Nah not so fast bud fill this first\")\n",
    "height=int(input(\"Please enter your height?\"))\n",
    "\n",
    "if height >= 120:\n",
    "    print(\"Have a Wonderful Ride!\")\n",
    "else:\n",
    "    print(\"Sorry Bud Comeback next year\")"
   ]
  },
  {
   "cell_type": "markdown",
   "metadata": {},
   "source": [
    "Exercise 1 - \n",
    "Even numbers can be divided by 2 with no remainder.\n",
    "\n",
    "e.g. 86 is even because 86 ÷ 2 = 43\n",
    "\n",
    "43 does not have any decimal places. Therefore the division is clean.\n",
    "\n",
    "e.g. 59 is odd because 59 ÷ 2 = 29.5\n",
    "\n",
    "29.5 is not a whole number, it has decimal places. Therefore there is a remainder of 0.5, so the division is not clean.\n",
    "\n",
    "The modulo is written as a percentage sign (%) in Python. It gives you the remainder after a division."
   ]
  },
  {
   "cell_type": "code",
   "execution_count": 20,
   "metadata": {},
   "outputs": [
    {
     "name": "stdout",
     "output_type": "stream",
     "text": [
      "This is an even number\n"
     ]
    }
   ],
   "source": [
    "# 🚨 Don't change the code below 👇\n",
    "number = int(input(\"Which number do you want to check? \"))\n",
    "# 🚨 Don't change the code above 👆\n",
    "\n",
    "#Write your code below this line 👇\n",
    "\n",
    "if number % 2 == 0:\n",
    "    print(\"This is an even number\")\n",
    "else:\n",
    "    print(\"This is an odd number\")"
   ]
  },
  {
   "cell_type": "code",
   "execution_count": 21,
   "metadata": {},
   "outputs": [
    {
     "name": "stdout",
     "output_type": "stream",
     "text": [
      " Welcome To The Oslo Theme Park\n",
      " Wanna Hop On a Ride With Dinocoaster\n",
      " Nah Nah Nah not so fast bud fill this first\n"
     ]
    }
   ],
   "source": [
    "# Theme Park - real life problem\n",
    "# code to replace the ticket box\n",
    "# condition Adult Pricing according to the age\n",
    "# Nested IF - Statement\n",
    "print(\" Welcome To The Oslo Theme Park\")\n",
    "print(\" Wanna Hop On a Ride With Dinocoaster\")\n",
    "print(\" Nah Nah Nah not so fast bud fill this first\")\n",
    "height=int(input(\"Please enter your height?\"))\n",
    "Age=int(input(\"Please enter your Age?\"))\n",
    "\n",
    "if height >= 120:\n",
    "    print(\"Have a Wonderful Ride!\")\n",
    "    if Age > 18:\n",
    "        print(\"You Pay 12$ for the ride\")\n",
    "    else:\n",
    "        print(\"You Pay 12$ for the ride\")\n",
    "else:\n",
    "    print(\"Sorry Bud Comeback next year\")\n",
    "\n"
   ]
  },
  {
   "cell_type": "markdown",
   "metadata": {},
   "source": [
    "Exercise 2 -\n",
    "Write a program that interprets the Body Mass Index (BMI) based on a user's weight and height.\n",
    "\n",
    "It should tell them the interpretation of their BMI based on the BMI value.\n",
    "\n",
    "Under 18.5 they are underweight\n",
    "Over 18.5 but below 25 they have a normal weight\n",
    "Over 25 but below 30 they are slightly overweight\n",
    "Over 30 but below 35 they are obese\n",
    "Above 35 they are clinically obese."
   ]
  },
  {
   "cell_type": "code",
   "execution_count": null,
   "metadata": {},
   "outputs": [
    {
     "name": "stdout",
     "output_type": "stream",
     "text": [
      "Your BMI is 28, you are slightly overweight.\n"
     ]
    }
   ],
   "source": [
    "# 🚨 Don't change the code below 👇\n",
    "height = float(input(\"enter your height in m: \"))\n",
    "weight = float(input(\"enter your weight in kg: \"))\n",
    "# 🚨 Don't change the code above 👆\n",
    "#Write your code below this line 👇\n",
    "BMI = round(weight/(height * height))\n",
    "if BMI < 18.5:\n",
    "    print(f\"Your BMI is {BMI}, you are underweight.\")\n",
    "elif BMI < 25:\n",
    "    print(f\"Your BMI is {BMI}, you have a normal weight.\")\n",
    "elif BMI < 30:\n",
    "    print(f\"Your BMI is {BMI}, you are slightly overweight.\")\n",
    "elif BMI < 35:\n",
    "    print(f\"Your BMI is {BMI}, you are obese.\")\n",
    "else:\n",
    "    print(f\"Your BMI is {BMI}, you are clinically obese.\")"
   ]
  },
  {
   "cell_type": "markdown",
   "metadata": {},
   "source": [
    "Exercise 4 -\n",
    "\n",
    "Write a program that works out whether if a given year is a leap year. A normal year has 365 days, leap years have 366, with an extra day in February. The reason why we have leap years is really fascinating, this video does it more justice:\n",
    "\n",
    "https://www.youtube.com/watch?v=xX96xng7sAE\n",
    "\n",
    "This is how you work out whether if a particular year is a leap year.\n",
    "\n",
    "on every year that is evenly divisible by 4 \n",
    "\n",
    "**except** every year that is evenly divisible by 100 \n",
    "\n",
    "**unless** the year is also evenly divisible by 400\n",
    "\n",
    "e.g. The year 2000:\n",
    "\n",
    "2000 ÷ 4 = 500 (Leap)\n",
    "\n",
    "2000 ÷ 100 = 20 (Not Leap)\n",
    "\n",
    "2000 ÷ 400 = 5 (Leap!)\n",
    "\n",
    "So the year 2000 is a leap year.\n",
    "\n",
    "But the year 2100 is not a leap year because:\n",
    "\n",
    "2100 ÷ 4 = 525 (Leap)\n",
    "\n",
    "2100 ÷ 100 = 21 (Not Leap)\n",
    "\n",
    "2100 ÷ 400 = 5.25 (Not Leap)"
   ]
  },
  {
   "cell_type": "code",
   "execution_count": 1,
   "metadata": {},
   "outputs": [
    {
     "name": "stdout",
     "output_type": "stream",
     "text": [
      "Not A Leap Year\n"
     ]
    }
   ],
   "source": [
    "Year = int(input(\"Which Year do you want to check\"))\n",
    "\n",
    "Year_4 = Year/4\n",
    "Year_100 = Year/100\n",
    "Year_400= Year/400\n",
    "\n",
    "if  Year_4 == 0 or Year_100 == 0 and Year_400 == 0:\n",
    "    print(\"Leap year!\")\n",
    "else:\n",
    "    print(\"Not A Leap Year\")\n"
   ]
  },
  {
   "cell_type": "code",
   "execution_count": null,
   "metadata": {},
   "outputs": [],
   "source": [
    "if year % 4 == 0:\n",
    "    if year % 100 == 0:\n",
    "        if year % 400 == 0:\n",
    "            print(\"leap year\")\n",
    "        else:\n",
    "            print(\"Not leap year\")\n",
    "    else:\n",
    "        print(\"Not leap year\")\n",
    "else:\n",
    "    print(\"Not leap year\")\n",
    "        "
   ]
  },
  {
   "cell_type": "code",
   "execution_count": 2,
   "metadata": {},
   "outputs": [
    {
     "name": "stdout",
     "output_type": "stream",
     "text": [
      "Leap year.\n"
     ]
    }
   ],
   "source": [
    "# 🚨 Don't change the code below 👇\n",
    "year = int(input(\"Which year do you want to check? \"))\n",
    "# 🚨 Don't change the code above 👆\n",
    "\n",
    "#Write your code below this line 👇\n",
    "if year % 4 == 0:\n",
    "    if year % 100 == 0:\n",
    "        if year % 400 == 0:\n",
    "            print(\"leap year\")\n",
    "        else:\n",
    "            print(\"Not leap year.\")\n",
    "    else:\n",
    "        print(\"Leap year.\")\n",
    "else:\n",
    "    print(\"Not leap year.\")"
   ]
  },
  {
   "cell_type": "code",
   "execution_count": 4,
   "metadata": {},
   "outputs": [
    {
     "name": "stdout",
     "output_type": "stream",
     "text": [
      " Welcome To The Oslo Theme Park\n",
      " Wanna Hop On a Ride With Dinocoaster\n",
      " Nah Nah Nah not so fast bud fill this first\n",
      "Have a Wonderful Ride!\n",
      "Adult Tickets are $12\n",
      "Your total bill is $15\n"
     ]
    }
   ],
   "source": [
    "# Theme Park - real life problem\n",
    "# code to replace the ticket box\n",
    "# condition Adult Pricing according to the age\n",
    "# Multiple IF - Condition\n",
    "print(\" Welcome To The Oslo Theme Park\")\n",
    "print(\" Wanna Hop On a Ride With Dinocoaster\")\n",
    "print(\" Nah Nah Nah not so fast bud fill this first\")\n",
    "height=int(input(\"Please enter your height?\"))\n",
    "Age=int(input(\"Please enter your Age?\"))\n",
    "wants_photo = input(\"Do you want the photo taken? Y or N. \")\n",
    "bill = 0\n",
    "\n",
    "if height >= 120:\n",
    "    print(\"Have a Wonderful Ride!\")\n",
    "    if Age < 12:\n",
    "        bill=5\n",
    "        print(\"Child Tickets are $5\")\n",
    "    elif Age <=18:\n",
    "        bill=7\n",
    "        print(\"Youth Tickets are $7\")\n",
    "    else:\n",
    "        bill=12\n",
    "        print(\"Adult Tickets are $12\")\n",
    "    if wants_photo == \"y\":\n",
    "        bill=bill+3\n",
    "        print(f\"Your total bill is ${bill}\")\n",
    "\n",
    "else:\n",
    "    print(\"Sorry Bud Comeback next year\")"
   ]
  },
  {
   "cell_type": "markdown",
   "metadata": {},
   "source": [
    "Exercise 5 -\n",
    "Congratulations, you've got a job at Python Pizza. Your first job is to build an automatic pizza order program.\n",
    "\n",
    "Based on a user's order, work out their final bill.\n",
    "\n",
    "Small Pizza: $15\n",
    "\n",
    "Medium Pizza: $20\n",
    "\n",
    "Large Pizza: $25\n",
    "\n",
    "Pepperoni for Small Pizza: +$2\n",
    "\n",
    "Pepperoni for Medium or Large Pizza: +$3\n",
    "\n",
    "Extra cheese for any size pizza: + $1"
   ]
  },
  {
   "cell_type": "code",
   "execution_count": 12,
   "metadata": {},
   "outputs": [
    {
     "name": "stdout",
     "output_type": "stream",
     "text": [
      "Welcome to Python Pizza Deliveries!\n",
      "total bill is 19\n"
     ]
    }
   ],
   "source": [
    "# 🚨 Don't change the code below 👇\n",
    "print(\"Welcome to Python Pizza Deliveries!\")\n",
    "size = input(\"What size pizza do you want? S, M, or L \")\n",
    "add_pepperoni = input(\"Do you want pepperoni? Y or N \")\n",
    "extra_cheese = input(\"Do you want extra cheese? Y or N \")\n",
    "# 🚨 Don't change the code above 👆\n",
    "\n",
    "#Write your code below this line 👇\n",
    "\n",
    "bill=0\n",
    "\n",
    "if size == \"S\":\n",
    "    bill=bill+15\n",
    "    if extra_cheese == \"Y\":\n",
    "        bill=bill+1\n",
    "    if add_pepperoni == \"Y\":\n",
    "        bill=bill+3\n",
    "        print(f\"total bill is {bill}\")\n",
    "elif size == \"M\":\n",
    "    bill=bill+20\n",
    "    if extra_cheese == \"Y\":\n",
    "        bill=bill+1\n",
    "    if add_pepperoni == \"Y\":\n",
    "        bill=bill+3\n",
    "        print(f\"total bill is {bill}\")\n",
    "else:\n",
    "    bill=bill+25\n",
    "    if extra_cheese == \"Y\":\n",
    "        bill=bill+1\n",
    "    if add_pepperoni == \"Y\":\n",
    "        bill=bill+3\n",
    "        print(f\"total bill is {bill}\")\n"
   ]
  },
  {
   "cell_type": "code",
   "execution_count": 13,
   "metadata": {},
   "outputs": [
    {
     "name": "stdout",
     "output_type": "stream",
     "text": [
      "Welcome to Python Pizza Deliveries!\n",
      "Your final bill is $21\n"
     ]
    }
   ],
   "source": [
    "# 🚨 Don't change the code below 👇\n",
    "print(\"Welcome to Python Pizza Deliveries!\")\n",
    "size = input(\"What size pizza do you want? S, M, or L \")\n",
    "add_pepperoni = input(\"Do you want pepperoni? Y or N \")\n",
    "extra_cheese = input(\"Do you want extra cheese? Y or N \")\n",
    "bill = 0\n",
    "\n",
    "if size == \"S\":\n",
    "    bill +=15\n",
    "elif size == \"M\":\n",
    "    bill +=20\n",
    "else:\n",
    "    bill +=25\n",
    "\n",
    "if add_pepperoni == \"Y\":\n",
    "    if size == \"S\":\n",
    "        bill +=2\n",
    "    else:\n",
    "        bill +=3\n",
    "if extra_cheese == \"Y\":\n",
    "    bill +=1\n",
    "\n",
    "print(f\"Your final bill is ${bill}\")\n",
    " "
   ]
  },
  {
   "cell_type": "code",
   "execution_count": null,
   "metadata": {},
   "outputs": [],
   "source": [
    "# combining different conditions using logical operators\n",
    "# and both must be TRUE\n",
    "# or Any One Must be True\n",
    "# not is negation basically\n",
    "# Theme Park - real life problem\n",
    "# code to replace the ticket box\n",
    "# condition Adult Pricing according to the age\n",
    "# Multiple IF - Condition\n",
    "print(\" Welcome To The Oslo Theme Park\")\n",
    "print(\" Wanna Hop On a Ride With Dinocoaster\")\n",
    "print(\" Nah Nah Nah not so fast bud fill this first\")\n",
    "height=int(input(\"Please enter your height?\"))\n",
    "Age=int(input(\"Please enter your Age?\"))\n",
    "wants_photo = input(\"Do you want the photo taken? Y or N. \")\n",
    "bill = 0\n",
    "\n",
    "if height >= 120:\n",
    "    print(\"Have a Wonderful Ride!\")\n",
    "    if Age < 12:\n",
    "        bill=5\n",
    "        print(\"Child Tickets are $5\")\n",
    "    elif Age <=18:\n",
    "        bill=7\n",
    "        print(\"Youth Tickets are $7\")\n",
    "    elif Age >= 45 and Age <=55:\n",
    "        print(\"Everything is going to be ok Have a free ride on us\")\n",
    "    else:\n",
    "        bill=12\n",
    "        print(\"Adult Tickets are $12\")\n",
    "    if wants_photo == \"y\":\n",
    "        bill=bill+3\n",
    "        print(f\"Your total bill is ${bill}\")\n",
    "\n",
    "else:\n",
    "    print(\"Sorry Bud Comeback next year\")"
   ]
  },
  {
   "cell_type": "markdown",
   "metadata": {},
   "source": [
    "Exervixe 5 - \n",
    "You are going to write a program that tests the compatibility between two people.\n",
    "\n",
    "To work out the love score between two people:\n",
    "\n",
    "Take both people's names and check for the number of times the letters in the word TRUE occurs. \n",
    "\n",
    "Then check for the number of times the letters in the word LOVE occurs. \n",
    "\n",
    "Then combine these numbers to make a 2 digit number.\n",
    "For Love Scores less than 10 or greater than 90, the message should be:\n",
    "\n",
    "\"Your score is **x**, you go together like coke and mentos.\"\n",
    "For Love Scores between 40 and 50, the message should be:\n",
    "\n",
    "\"Your score is **y**, you are alright together.\"\n",
    "Otherwise, the message will just be their score. e.g.:\n",
    "\n",
    "\"Your score is **z**.\"\n",
    "e.g.\n",
    "\n",
    "name1 = \"Angela Yu\"\n",
    "name2 = \"Jack Bauer\"\n",
    "T occurs 0 times\n",
    "\n",
    "R occurs 1 time\n",
    "\n",
    "U occurs 2 times\n",
    "\n",
    "E occurs 2 times\n",
    "\n",
    "Total = 5\n",
    "\n",
    "L occurs 1 time\n",
    "\n",
    "O occurs 0 times\n",
    "\n",
    "V occurs 0 times\n",
    "\n",
    "E occurs 2 times\n",
    "\n",
    "Total = 3\n",
    "\n",
    "Love Score = 53\n",
    "\n",
    "Print: \"Your score is 53.\""
   ]
  },
  {
   "cell_type": "code",
   "execution_count": 24,
   "metadata": {},
   "outputs": [
    {
     "name": "stdout",
     "output_type": "stream",
     "text": [
      "Welcome to the Love Calculator!\n",
      "Your score is 54.\n"
     ]
    }
   ],
   "source": [
    "# 🚨 Don't change the code below 👇\n",
    "print(\"Welcome to the Love Calculator!\")\n",
    "name1 = input(\"What is your name? \\n\")\n",
    "name2 = input(\"What is their name? \\n\")\n",
    "# 🚨 Don't change the code above 👆\n",
    "\n",
    "#Write your code below this line 👇\n",
    "string = name1 + name2\n",
    "lower_case = string.lower()\n",
    "\n",
    "t = lower_case.count(\"t\")\n",
    "r = lower_case.count(\"r\")\n",
    "u = lower_case.count(\"u\")\n",
    "e = lower_case.count(\"e\")\n",
    "l = lower_case.count(\"l\")\n",
    "o = lower_case.count(\"o\")\n",
    "v = lower_case.count(\"v\")\n",
    "e = lower_case.count(\"e\")\n",
    "\n",
    "true = t+r+u+e\n",
    "love = l+o+v+e\n",
    "\n",
    "love_score = str(true)+str(love)\n",
    "love_score=int(love_score)\n",
    "\n",
    "if love_score < 10 or love_score > 90:\n",
    "    print(f\"Your score is {love_score}, you go together like coke and mentos\")\n",
    "elif love_score >=40 and love_score <=50:\n",
    "    print(f\"Your score is {love_score}, you are alright together.\")\n",
    "else:\n",
    "    print(f\"Your score is {love_score}.\")\n",
    "\n"
   ]
  },
  {
   "cell_type": "markdown",
   "metadata": {},
   "source": [
    "Day 3 - Project\n",
    "Adventurer treasure game"
   ]
  },
  {
   "cell_type": "code",
   "execution_count": 2,
   "metadata": {},
   "outputs": [
    {
     "name": "stdout",
     "output_type": "stream",
     "text": [
      "\n",
      "*******************************************************************************\n",
      "          |                   |                  |                     |\n",
      " _________|________________.=\"\"_;=.______________|_____________________|_______\n",
      "|                   |  ,-\"_,=\"\"     `\"=.|                  |\n",
      "|___________________|__\"=._o`\"-._        `\"=.______________|___________________\n",
      "          |                `\"=._o`\"=._      _`\"=._                     |\n",
      " _________|_____________________:=._o \"=._.\"_.-=\"'\"=.__________________|_______\n",
      "|                   |    __.--\" , ; `\"=._o.\" ,-\"\"\"-._ \".   |\n",
      "|___________________|_._\"  ,. .` ` `` ,  `\"-._\"-._   \". '__|___________________\n",
      "          |           |o`\"=._` , \"` `; .\". ,  \"-._\"-._; ;              |\n",
      " _________|___________| ;`-.o`\"=._; .\" ` '`.\"\\` . \"-._ /_______________|_______\n",
      "|                   | |o;    `\"-.o`\"=._``  '` \" ,__.--o;   |\n",
      "|___________________|_| ;     (#) `-.o `\"=.`_.--\"_o.-; ;___|___________________\n",
      "____/______/______/___|o;._    \"      `\".o|o_.--\"    ;o;____/______/______/____\n",
      "/______/______/______/_\"=._o--._        ; | ;        ; ;/______/______/______/_\n",
      "____/______/______/______/__\"=._o--._   ;o|o;     _._;o;____/______/______/____\n",
      "/______/______/______/______/____\"=._o._; | ;_.--\"o.--\"_/______/______/______/_\n",
      "____/______/______/______/______/_____\"=.o|o_.--\"\"___/______/______/______/____\n",
      "/______/______/______/______/______/______/______/______/______/______/_____ /\n",
      "*******************************************************************************\n",
      "\n",
      "Welcome to Treasure Island.\n",
      "Your mission is to find the treasure.\n",
      "You got attacked by angry trout. Game over.\n"
     ]
    }
   ],
   "source": [
    "print('''\n",
    "*******************************************************************************\n",
    "          |                   |                  |                     |\n",
    " _________|________________.=\"\"_;=.______________|_____________________|_______\n",
    "|                   |  ,-\"_,=\"\"     `\"=.|                  |\n",
    "|___________________|__\"=._o`\"-._        `\"=.______________|___________________\n",
    "          |                `\"=._o`\"=._      _`\"=._                     |\n",
    " _________|_____________________:=._o \"=._.\"_.-=\"'\"=.__________________|_______\n",
    "|                   |    __.--\" , ; `\"=._o.\" ,-\"\"\"-._ \".   |\n",
    "|___________________|_._\"  ,. .` ` `` ,  `\"-._\"-._   \". '__|___________________\n",
    "          |           |o`\"=._` , \"` `; .\". ,  \"-._\"-._; ;              |\n",
    " _________|___________| ;`-.o`\"=._; .\" ` '`.\"\\` . \"-._ /_______________|_______\n",
    "|                   | |o;    `\"-.o`\"=._``  '` \" ,__.--o;   |\n",
    "|___________________|_| ;     (#) `-.o `\"=.`_.--\"_o.-; ;___|___________________\n",
    "____/______/______/___|o;._    \"      `\".o|o_.--\"    ;o;____/______/______/____\n",
    "/______/______/______/_\"=._o--._        ; | ;        ; ;/______/______/______/_\n",
    "____/______/______/______/__\"=._o--._   ;o|o;     _._;o;____/______/______/____\n",
    "/______/______/______/______/____\"=._o._; | ;_.--\"o.--\"_/______/______/______/_\n",
    "____/______/______/______/______/_____\"=.o|o_.--\"\"___/______/______/______/____\n",
    "/______/______/______/______/______/______/______/______/______/______/_____ /\n",
    "*******************************************************************************\n",
    "''')\n",
    "print(\"Welcome to Treasure Island.\")\n",
    "print(\"Your mission is to find the treasure.\") \n",
    "\n",
    "#https://www.draw.io/?lightbox=1&highlight=0000ff&edit=_blank&layers=1&nav=1&title=Treasure%20Island%20Conditional.drawio#Uhttps%3A%2F%2Fdrive.google.com%2Fuc%3Fid%3D1oDe4ehjWZipYRsVfeAx2HyB7LCQ8_Fvi%26export%3Ddownload\n",
    "\n",
    "#Write your code below this line 👇\n",
    "\n",
    "input_1=input('You\\'re at a crossroad, where do you want to go? Type \"left\" ar \"right\"./n').lower()\n",
    "\n",
    "# useing backslash will make your comment to get printed without any errors\n",
    "\n",
    "if input_1 == \"left\":\n",
    "    # Continue the game\n",
    "    input_2=input('You\\'ve come to a lake. There is an island in the middle of the lake. Type \"wait\" to wait foor the boat. Type \"swim\" to swim across/n').lower()\n",
    "    if input_2 == \"wait\":\n",
    "        input_3=input(\"You arrive at the island unmharmed. There is a house with 3 doors, One red , One yellow and One blue/n\" ).lower()\n",
    "        if input_3 == \"red\":\n",
    "            print(\"its room full of fire game over\")\n",
    "        elif input_3 == \"yellow\":\n",
    "            print(\"you find the treasure! You win\")\n",
    "        elif input_3 == \"blue\":\n",
    "            print(\"you enter a room of beasts. Game over\")\n",
    "        else:\n",
    "            print(\"the room you entered doesnt exist . Game over\")\n",
    "\n",
    "    else:\n",
    "        print(\"You got attacked by angry trout. Game over.\")\n",
    "\n",
    "else:\n",
    "    print(\"You fell into a hole. Game over.\")\n"
   ]
  },
  {
   "cell_type": "code",
   "execution_count": null,
   "metadata": {},
   "outputs": [],
   "source": [
    "                                                      ,-,-.\n",
    "                                                       _(    _)\n",
    "                                                      (__,`-'\n",
    "                                            ,'`.   .-----,\n",
    "                             __           ,','`.`.  |   |\n",
    "                  _____    ,'  `.       ,','    `.`.|---|\n",
    "              _,-'     \\  /      \\    ,',' _____  `.`.  |\n",
    "           ,-'          \\ \\      /  ,','  |  |  |   `.`.|\n",
    "         ,'           ___\\ `.__.' ,','__  |--|--|   __'.`.         _\n",
    "        /         _,-'     .----. \\|    \\ |__|__|  /    |/      ,-' \\ TM\n",
    "       |        ,'         |    |  |     \\        /     |    ,-'    _\\\n",
    "       |        |          |    |  |      \\      /      |  ,'    ,-'\n",
    "        \\       \\          |    |  |       \\    /       | /     /\n",
    "         \\       \\         |    |  |        \\  /        | |    ( \n",
    "          \\       `.       |    |  |         \\/         |  \\    \\\n",
    " ____ _    `.       `.     |    |  |    \\          /    |   `.   `.\n",
    "'-..-'||     `.       `.   |    |  |    |\\        /|    |     `.   `.\n",
    "  ||  ||__   __`.       \\  |    |  |    | \\      / |    |       \\    \\\n",
    "  ||  |.-.\\ /__\\ \\       \\ |    |  |    |  \\    /  |    |      ,'    /\n",
    "  ||  || || \\__, /       | |    |  |    |   \\__/   |    | __,-'    ,'\n",
    "               ,'        / |    |  |    |          |    | \\     ,-'\n",
    "        ____,-'        ,'  |____|  |    |          |    |  \\_,-'\n",
    "        \\            ,'            |____|          |____|\n",
    "         \\       _,-'\n",
    "          \\___,-'\n"
   ]
  },
  {
   "cell_type": "code",
   "execution_count": null,
   "metadata": {},
   "outputs": [],
   "source": [
    "        _.----.                          \n",
    "       .-\"       \\-.                       \n",
    "      /           ; \\                      \n",
    "     :           /:  \\                     \n",
    "     ;         .'  ;  ;                    \n",
    "     ;      .-\"    :  :                    \n",
    "    :   _.+(   .-- :  :                    \n",
    "    ;  ;   ' :  :                    \n",
    "    ;  :           ;  ;                    \n",
    "    :   ;    -    :  :                     \n",
    "     )  '   .-.   '  :                     \n",
    "    (    '. `\"' .'   ;                     \n",
    "     \"-._.:`---':-\"-.'+'                   \n",
    "          ;     ;    \"                     \n",
    "   _..__.-. -. (:                          \n",
    " ,'   .:(o);     \"-._                      \n",
    " :    _: 0 ;        \\`.                    \n",
    " ;  .'/.\\-/-.        `:                    \n",
    ":  : :  -U--:\"-.  \\    ;                   \n",
    ";  ; :  ----;   \"-.L.-\" \\                  \n",
    "'. '  \\ ---(      ;O:    ;                 \n",
    "  \\ '. '-;-'      :-:    :                 \n",
    "   `. \"\"/         ; :    ;                 \n",
    "     \"\"T      .-\":  :`. /                  \n",
    "       :  --\"\"   :   ; Y                   \n",
    "        ;        ;   : :                   \n",
    "        :       :     ; ;                  \n",
    "         ;      :   ; : :                  \n",
    "         :      ;   :  ; \\                 \n",
    "          ;    :    ;  :  \\_               \n",
    "          :    :        \\  \\\"-.            \n",
    "          ;    ;         \\  `. \"-.         \n",
    "         :    :     c     \\   `./\"-._      \n",
    "         ;    :            \\    \\    \"-.   \n",
    "        :     ;             `.   ;-.  -.`. \n",
    "        :    :       __..--\"\" \\  :  `.\\.`.\\\n",
    "        ;    :_..--\"\";  ;  _.-'\\  ;   \")))T\n",
    "       :     ;      _L.-'\"\"     ; :    '-='\n",
    "       ;    :_..--\"\"            :  ;       \n",
    "      /     ;                   ;; :       \n",
    "    .'     /                    ;: J       \n",
    "    `.    /                     ;'\"        \n",
    "      :-.'         /\\           ;          \n",
    "      ;           /  ;          :          \n",
    "     :           /   :          :          \n",
    "     ;          /     ;         :          \n",
    "    :          /  bug ;         :          \n",
    "    ;         /       :         :          \n",
    "   :         /        :         :"
   ]
  },
  {
   "cell_type": "code",
   "execution_count": null,
   "metadata": {},
   "outputs": [],
   "source": [
    "                         .-.\n",
    "                        ( (\n",
    "                         `-'\n",
    "\n",
    "\n",
    "\n",
    "\n",
    "\n",
    "\n",
    "                    .   ,- To the Moon Alice !\n",
    "                   .'.\n",
    "                   |o|\n",
    "                  .'o'.\n",
    "                  |.-.|\n",
    "                  '   '\n",
    "                   ( )\n",
    "                    )\n",
    "                   ( )\n",
    "\n",
    "               ____\n",
    "          .-'\"\"p 8o\"\"`-.\n",
    "       .-'8888P'Y.`Y[ ' `-.\n",
    "     ,']88888b.J8oo_      '`.\n",
    "   ,' ,88888888888[\"        Y`.\n",
    "  /   8888888888P            Y8\\\n",
    " /    Y8888888P'             ]88\\\n",
    ":     `Y88'   P              `888:\n",
    ":       Y8.oP '- >            Y88:\n",
    "|          `Yb  __             `'|\n",
    ":            `'d8888bo.          :\n",
    ":             d88888888ooo.      ;\n",
    " \\            Y88888888888P     /\n",
    "  \\            `Y88888888P     /\n",
    "   `.            d88888P'    ,'\n",
    "     `.          888PP'    ,'\n",
    "       `-.      d8P'    ,-'   -CJ-\n",
    "          `-.,,_'__,,.-'\n",
    "\n",
    "          "
   ]
  },
  {
   "cell_type": "code",
   "execution_count": null,
   "metadata": {},
   "outputs": [],
   "source": [
    "      _=====_                               _=====_\n",
    "     / _____ \\                             / _____ \\\n",
    "   +.-'_____'-.---------------------------.-'_____'-.+\n",
    "  /   |     |  '.        S O N Y        .'  |  _  |   \\\n",
    " / ___| /|\\ |___ \\                     / ___| /_\\ |___ \\\n",
    "/ |      |      | ;  __           _   ; | _         _ | ;\n",
    "| | <---   ---> | | |__|         |_:> | ||_|       (_)| |\n",
    "| |___   |   ___| ;SELECT       START ; |___       ___| ;\n",
    "|\\    | \\|/ |    /  _     ___      _   \\    | (X) |    /|\n",
    "| \\   |_____|  .','\" \"', |___|  ,'\" \"', '.  |_____|  .' |\n",
    "|  '-.______.-' /       \\ANALOG/       \\  '-._____.-'   |\n",
    "|               |       |------|       |                |\n",
    "|              /\\       /      \\       /\\               |\n",
    "|             /  '.___.'        '.___.'  \\              |\n",
    "|            /                            \\             |\n",
    " \\          /                              \\           /\n",
    "  \\________/                                \\_________/\n",
    "                    PS2 CONTROLLER"
   ]
  }
 ],
 "metadata": {
  "kernelspec": {
   "display_name": "Python 3",
   "language": "python",
   "name": "python3"
  },
  "language_info": {
   "codemirror_mode": {
    "name": "ipython",
    "version": 3
   },
   "file_extension": ".py",
   "mimetype": "text/x-python",
   "name": "python",
   "nbconvert_exporter": "python",
   "pygments_lexer": "ipython3",
   "version": "3.11.4"
  },
  "orig_nbformat": 4
 },
 "nbformat": 4,
 "nbformat_minor": 2
}
