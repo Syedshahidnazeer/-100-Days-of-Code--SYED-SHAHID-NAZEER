{
 "cells": [
  {
   "cell_type": "markdown",
   "metadata": {},
   "source": [
    "Day 2 - Goal\n",
    "\n",
    "Data types\n",
    "Numbers\n",
    "Operations\n",
    "Type Conversions\n",
    "and F-Strings"
   ]
  },
  {
   "cell_type": "code",
   "execution_count": 1,
   "metadata": {},
   "outputs": [
    {
     "name": "stdout",
     "output_type": "stream",
     "text": [
      "l\n",
      "111222\n",
      "123456\n",
      "3.145\n"
     ]
    },
    {
     "data": {
      "text/plain": [
       "False"
      ]
     },
     "execution_count": 1,
     "metadata": {},
     "output_type": "execute_result"
    }
   ],
   "source": [
    "# Data Types In Python\n",
    "\n",
    "# Strings\n",
    "\n",
    "print(\"Hello\"[3])\n",
    "\n",
    "print(\"111\" + \"222\") # it takes string by default rather than integers\n",
    "\n",
    "# humans in generally use , for larger numbers 1,00,000 but in python we use _ for the same 1_00_000\n",
    "\n",
    "# Integers - all whole numbers including positive and negatives\n",
    "a=123_456\n",
    "\n",
    "print(a)\n",
    "\n",
    "# Float - decimal point floating around the numbers\n",
    "\n",
    "f=3.145\n",
    "\n",
    "print(f)\n",
    "\n",
    "# Boolean\n",
    "\n",
    "True\n",
    "False\n"
   ]
  },
  {
   "cell_type": "code",
   "execution_count": 2,
   "metadata": {},
   "outputs": [
    {
     "ename": "TypeError",
     "evalue": "can only concatenate str (not \"int\") to str",
     "output_type": "error",
     "traceback": [
      "\u001b[1;31m---------------------------------------------------------------------------\u001b[0m",
      "\u001b[1;31mTypeError\u001b[0m                                 Traceback (most recent call last)",
      "Cell \u001b[1;32mIn[2], line 6\u001b[0m\n\u001b[0;32m      1\u001b[0m \u001b[39m# typeerror,typechecking and type conversion\u001b[39;00m\n\u001b[0;32m      2\u001b[0m \u001b[39m# Potato Fries Machine gives fries as output when potato is the input\u001b[39;00m\n\u001b[0;32m      3\u001b[0m \u001b[39m# but when we give input a rock \u001b[39;00m\n\u001b[0;32m      5\u001b[0m num_char \u001b[39m=\u001b[39m \u001b[39mlen\u001b[39m(\u001b[39minput\u001b[39m(\u001b[39m\"\u001b[39m\u001b[39menter your name\u001b[39m\u001b[39m\"\u001b[39m))\n\u001b[1;32m----> 6\u001b[0m \u001b[39mprint\u001b[39m(\u001b[39m\"\u001b[39;49m\u001b[39mYour name has \u001b[39;49m\u001b[39m\"\u001b[39;49m \u001b[39m+\u001b[39;49m num_char \u001b[39m+\u001b[39m \u001b[39m\"\u001b[39m\u001b[39mcharacters.\u001b[39m\u001b[39m\"\u001b[39m)\n",
      "\u001b[1;31mTypeError\u001b[0m: can only concatenate str (not \"int\") to str"
     ]
    }
   ],
   "source": [
    "# typeerror,typechecking and type conversion\n",
    "# Potato Fries Machine gives fries as output when potato is the input\n",
    "# but when we give input a rock \n",
    "\n",
    "num_char = len(input(\"enter your name\"))\n",
    "print(\"Your name has \" + num_char + \"characters.\")"
   ]
  },
  {
   "cell_type": "code",
   "execution_count": 3,
   "metadata": {},
   "outputs": [
    {
     "name": "stdout",
     "output_type": "stream",
     "text": [
      "<class 'int'>\n"
     ]
    }
   ],
   "source": [
    "num_char = len(input(\"enter your name\"))\n",
    "print(type(num_char))\n",
    "# convert the integer into string data type\n",
    "num_char=str(num_char)\n",
    "print(\"Your name has \" + num_char + \"characters.\")"
   ]
  },
  {
   "cell_type": "code",
   "execution_count": 10,
   "metadata": {},
   "outputs": [
    {
     "name": "stdout",
     "output_type": "stream",
     "text": [
      "<class 'int'> <class 'str'> <class 'float'>\n",
      "246.123\n"
     ]
    }
   ],
   "source": [
    "a=123\n",
    "b=\"123\"\n",
    "c=123.123\n",
    "print(type(a),type(b),type(c)) # investigate the data type you are working with\n",
    "print(a + c)"
   ]
  },
  {
   "cell_type": "markdown",
   "metadata": {},
   "source": [
    "Exercise 1 -\n",
    "Write a program that adds the digits in a 2 digit number. e.g. if the input was 35, then the output should be 3 + 5 = 8"
   ]
  },
  {
   "cell_type": "code",
   "execution_count": null,
   "metadata": {},
   "outputs": [],
   "source": [
    "# 🚨 Don't change the code below 👇\n",
    "two_digit_number = input(\"Type a two digit number: \")\n",
    "# 🚨 Don't change the code above 👆\n",
    "\n",
    "####################################\n",
    "#Write your code below this line 👇\n",
    "sum=int(two_digit_number[0]) + int(two_digit_number[1])\n",
    "print(sum)"
   ]
  },
  {
   "cell_type": "markdown",
   "metadata": {},
   "source": [
    "Priority of Mathematical Operations\n",
    "\n",
    "PEMDAS\n",
    "\n",
    "Parentheses - ()\n",
    "Exponents - **\n",
    "Multiplication - *\n",
    "Division - /\n",
    "Addition - +\n",
    "Subtraction - -"
   ]
  },
  {
   "cell_type": "code",
   "execution_count": 15,
   "metadata": {},
   "outputs": [
    {
     "name": "stdout",
     "output_type": "stream",
     "text": [
      "7.0\n",
      "12\n"
     ]
    }
   ],
   "source": [
    "print(3 * 3 + 3/3 -3)\n",
    "print((3+3)+3*3-3)\n",
    "# first multiplication then division and the subtraction\n",
    "# equal importance for division and multiplication\n",
    "# but the calculation goes from left to right\n",
    "# paremthesis can change the priority of pemdas operations"
   ]
  },
  {
   "cell_type": "code",
   "execution_count": 12,
   "metadata": {},
   "outputs": [
    {
     "name": "stdout",
     "output_type": "stream",
     "text": [
      "10\n",
      "24\n",
      "0.6666666666666666\n",
      "-2\n",
      "4096\n"
     ]
    }
   ],
   "source": [
    "# mathematical operations\n",
    "# division always gives you the output value as a float\n",
    "x = 4\n",
    "y = 6\n",
    "print(x+y)\n",
    "print(x*y)\n",
    "print(x/y)\n",
    "print(x-y)\n",
    "print(x**y)"
   ]
  },
  {
   "cell_type": "markdown",
   "metadata": {},
   "source": [
    "Exercise 2 -\n",
    "Write a program that calculates the Body Mass Index (BMI) from a user's weight and height.\n",
    "\n",
    "The BMI is a measure of someone's weight taking into account their height. e.g. If a tall person and a short person both weigh the same amount, the short person is usually more overweight.\n",
    "\n",
    "The BMI is calculated by dividing a person's weight (in kg) by the square of their height (in m):"
   ]
  },
  {
   "cell_type": "code",
   "execution_count": 17,
   "metadata": {},
   "outputs": [
    {
     "name": "stdout",
     "output_type": "stream",
     "text": [
      "37\n"
     ]
    }
   ],
   "source": [
    "# 🚨 Don't change the code below 👇\n",
    "height = input(\"enter your height in m: \")\n",
    "weight = input(\"enter your weight in kg: \")\n",
    "# 🚨 Don't change the code above 👆\n",
    "\n",
    "#Write your code below this line 👇\n",
    "\n",
    "BMI = int(weight)/(float(height) ** 2)\n",
    "print(int(BMI))"
   ]
  },
  {
   "cell_type": "code",
   "execution_count": 24,
   "metadata": {},
   "outputs": [
    {
     "name": "stdout",
     "output_type": "stream",
     "text": [
      "your team ishero , your score is 0, your height is 1.8,your team is winningTrue\n"
     ]
    }
   ],
   "source": [
    "# f-strings\n",
    "team=\"hero\"\n",
    "score = 0\n",
    "height = 1.8\n",
    "iswinning=True\n",
    "print(f\"your team is{team} , your score is {score}, your height is {height},your team is winning{iswinning}\")"
   ]
  },
  {
   "cell_type": "markdown",
   "metadata": {},
   "source": [
    "Excercise 3-\n",
    "\n",
    "I was reading this article by Tim Urban - Your Life in Weeks and realised just how little time we actually have.\n",
    "\n",
    "https://waitbutwhy.com/2014/05/life-weeks.html\n",
    "\n",
    "Create a program using maths and f-Strings that tells us how many days, weeks, months we have left if we live until 90 years old.\n",
    "\n",
    "It will take your current age as the input and output a message with our time left in this format:\n",
    "\n",
    "You have x days, y weeks, and z months left.\n",
    "\n",
    "Where x, y and z are replaced with the actual calculated numbers."
   ]
  },
  {
   "cell_type": "code",
   "execution_count": 25,
   "metadata": {},
   "outputs": [
    {
     "name": "stdout",
     "output_type": "stream",
     "text": [
      "You have 24455 days, 3484 weeks, and 804 months left.\n"
     ]
    }
   ],
   "source": [
    "# 🚨 Don't change the code below 👇\n",
    "age = input(\"What is your current age? \")\n",
    "# 🚨 Don't change the code above 👆\n",
    "\n",
    "#Write your code below this line 👇\n",
    "years = 90-int(age)\n",
    "months = int(years*12)\n",
    "weeks =int(years*52)\n",
    "days =int(years*365)\n",
    "\n",
    "print(f\"You have {days} days, {weeks} weeks, and {months} months left.\")"
   ]
  },
  {
   "cell_type": "markdown",
   "metadata": {},
   "source": [
    "Project 2 -\n",
    "#If the bill was $150.00, split between 5 people, with 12% tip. \n",
    "\n",
    "#Each person should pay (150.00 / 5) * 1.12 = 33.6\n",
    "#Format the result to 2 decimal places = 33.60\n",
    "\n",
    "#Tip: There are 2 ways to round a number. You might have to do some Googling to solve this.💪\n",
    "\n",
    "#Write your code below this line 👇"
   ]
  },
  {
   "cell_type": "code",
   "execution_count": 1,
   "metadata": {},
   "outputs": [
    {
     "name": "stdout",
     "output_type": "stream",
     "text": [
      "33.6\n"
     ]
    }
   ],
   "source": [
    "bill = int(input(\"What was the total bill?\"))\n",
    "tip = int(input(\"'What percentage tip would you like to give?'10, 12, or 15?\"))/100\n",
    "split = int(input(\"How many people to split the bill?\"))\n",
    "total_tip = bill * tip\n",
    "total_bill = bill + total_tip\n",
    "Total=total_bill/split\n",
    "print(round(Total,3))"
   ]
  },
  {
   "cell_type": "markdown",
   "metadata": {},
   "source": []
  },
  {
   "cell_type": "code",
   "execution_count": null,
   "metadata": {},
   "outputs": [],
   "source": []
  }
 ],
 "metadata": {
  "kernelspec": {
   "display_name": "Python 3",
   "language": "python",
   "name": "python3"
  },
  "language_info": {
   "codemirror_mode": {
    "name": "ipython",
    "version": 3
   },
   "file_extension": ".py",
   "mimetype": "text/x-python",
   "name": "python",
   "nbconvert_exporter": "python",
   "pygments_lexer": "ipython3",
   "version": "3.11.4"
  },
  "orig_nbformat": 4
 },
 "nbformat": 4,
 "nbformat_minor": 2
}
