{
 "cells": [
  {
   "cell_type": "markdown",
   "metadata": {},
   "source": [
    "Day 1 Goal\n",
    "\n",
    "Printing\n",
    "Commenting\n",
    "Debugging\n",
    "String Manipulation\n",
    "and Variables"
   ]
  },
  {
   "cell_type": "code",
   "execution_count": 5,
   "metadata": {},
   "outputs": [
    {
     "name": "stdout",
     "output_type": "stream",
     "text": [
      "Hello World!\n",
      "String\n"
     ]
    }
   ],
   "source": [
    "print(\"Hello World!\") # asking the machine to just print an statement\n",
    "\n",
    "print(\"String\") # anything with in the parenthesis is considered as an string"
   ]
  },
  {
   "cell_type": "code",
   "execution_count": 17,
   "metadata": {},
   "outputs": [
    {
     "name": "stdout",
     "output_type": "stream",
     "text": [
      "Day 1 - Python Print Function\n",
      "The function is declared like this:\n",
      "print('what to print')\n"
     ]
    }
   ],
   "source": [
    "print(\"Day 1 - Python Print Function\")\n",
    "print(\"The function is declared like this:\")\n",
    "print(\"print('what to print')\")"
   ]
  },
  {
   "cell_type": "markdown",
   "metadata": {},
   "source": [
    "Debugging the Following Code"
   ]
  },
  {
   "cell_type": "code",
   "execution_count": 16,
   "metadata": {},
   "outputs": [
    {
     "name": "stdout",
     "output_type": "stream",
     "text": [
      "Day 1 - String Manipulation\n",
      "String Concatenation is done with the \"+\" sign.\n",
      "e.g. print(\"Hello \" + \"world\")\n",
      "New lines can be created with a backslash and n.\n"
     ]
    }
   ],
   "source": [
    "print(\"Day 1 - String Manipulation\")\n",
    "print('String Concatenation is done with the \"+\" sign.')\n",
    "print('e.g. print(\"Hello \" + \"world\")')\n",
    "print((\"New lines can be created with a backslash and n.\"))"
   ]
  },
  {
   "cell_type": "markdown",
   "metadata": {},
   "source": [
    "Exercise -3\n",
    "Take the string input from user and calculate its length"
   ]
  },
  {
   "cell_type": "code",
   "execution_count": 15,
   "metadata": {},
   "outputs": [
    {
     "name": "stdout",
     "output_type": "stream",
     "text": [
      "6\n"
     ]
    }
   ],
   "source": [
    "name = input(\"What is your name? \")\n",
    "print(len(name))"
   ]
  },
  {
   "cell_type": "markdown",
   "metadata": {},
   "source": [
    "Exercise - 4\n",
    "Take the  input from user into a and b\n",
    "convert it from a to b and b to a"
   ]
  },
  {
   "cell_type": "code",
   "execution_count": 14,
   "metadata": {},
   "outputs": [
    {
     "name": "stdout",
     "output_type": "stream",
     "text": [
      "a: 5\n",
      "b: 3\n"
     ]
    }
   ],
   "source": [
    "# Two cups are there one has tea and other has milk in it make the content of the cups interchange\n",
    "# The solution is to get a third cup in order to interchange the contents of the two cups\n",
    "\n",
    "a = input(\"a: \")\n",
    "b = input(\"b: \")\n",
    "\n",
    "c=a     # using a third variable to store the value of a\n",
    "a=b\n",
    "b=c\n",
    "\n",
    "print(\"a: \" + a)\n",
    "print(\"b: \" + b)\n"
   ]
  },
  {
   "cell_type": "markdown",
   "metadata": {},
   "source": [
    "Project - 1\n",
    "\n",
    "#1. Create a greeting for your program.\n",
    "\n",
    "#2. Ask the user for the city that they grew up in.\n",
    "\n",
    "#3. Ask the user for the name of a pet.\n",
    "\n",
    "#4. Combine the name of their city and pet and show them their band name.\n",
    "\n",
    "#5. Make sure the input cursor shows on a new line:"
   ]
  },
  {
   "cell_type": "code",
   "execution_count": 13,
   "metadata": {},
   "outputs": [
    {
     "name": "stdout",
     "output_type": "stream",
     "text": [
      "Welcome to the Band Name Generator\n",
      "Your band name could be Bistrol Rabbit\n"
     ]
    }
   ],
   "source": [
    "\n",
    "\n",
    "print(\"Welcome to the Band Name Generator\")\n",
    "\n",
    "city = input(\"what's the name of the city you grew up in?\\n\")\n",
    "pet =input(\"what's your pet's name?\\n\")\n",
    "\n",
    "print(\"Your band name could be \" + city +\" \"+ pet)"
   ]
  }
 ],
 "metadata": {
  "kernelspec": {
   "display_name": "Python 3",
   "language": "python",
   "name": "python3"
  },
  "language_info": {
   "codemirror_mode": {
    "name": "ipython",
    "version": 3
   },
   "file_extension": ".py",
   "mimetype": "text/x-python",
   "name": "python",
   "nbconvert_exporter": "python",
   "pygments_lexer": "ipython3",
   "version": "3.11.4"
  },
  "orig_nbformat": 4
 },
 "nbformat": 4,
 "nbformat_minor": 2
}
