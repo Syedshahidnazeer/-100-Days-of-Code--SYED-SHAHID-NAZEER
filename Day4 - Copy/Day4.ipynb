{
 "cells": [
  {
   "cell_type": "markdown",
   "metadata": {},
   "source": [
    "Day - 4\n",
    "\n",
    "Randomization and Python lIsts\n",
    "\n",
    "Rock paper scissors app"
   ]
  },
  {
   "cell_type": "code",
   "execution_count": 14,
   "metadata": {},
   "outputs": [
    {
     "name": "stdout",
     "output_type": "stream",
     "text": [
      "33\n",
      "1.5225871266795292\n",
      "your love score is 61\n"
     ]
    }
   ],
   "source": [
    "# Randomization - Randomness is easy to craate in real life but lets do it in an computer way\n",
    "# There is much more maths behind Pseudo random generators\n",
    "# the one that python uses i sknown as \"Mersenne Twister\"\n",
    "\n",
    "import random\n",
    "\n",
    "random_integer = random.randint(1,99)\n",
    "print(random_integer)\n",
    "\n",
    "random_float = random.random() * 5 # random function will give you op between 0.00 and 0.99\n",
    "print(random_float)\n",
    "\n",
    "love_score = random.randint(1,100)\n",
    "print(f\"your love score is {love_score}\")"
   ]
  },
  {
   "cell_type": "code",
   "execution_count": null,
   "metadata": {},
   "outputs": [],
   "source": [
    "# some times our code gets so long so we try to split the code into different modules\n",
    "# different persons working on different modules the integrate\n",
    "# main.py is the main file for our project\n",
    "# we can create a file and call it in our code by just importing it and using the functions inside of it\n"
   ]
  },
  {
   "cell_type": "markdown",
   "metadata": {},
   "source": [
    "Exercise -1\n",
    "\n",
    "You are going to write a virtual coin toss program. It will randomly tell the user \"Heads\" or \"Tails\".\n",
    "\n",
    "Important, the first letter should be capitalised and spelt exactly like in the example e.g. Heads, not heads.\n",
    "\n",
    "There are many ways of doing this. But to practice what we learnt in the last lesson, you should generate a random number, either 0 or 1. Then use that number to print out Heads or Tails.\n",
    "\n",
    "e.g. 1 means Heads 0 means Tails"
   ]
  },
  {
   "cell_type": "code",
   "execution_count": 21,
   "metadata": {},
   "outputs": [
    {
     "name": "stdout",
     "output_type": "stream",
     "text": [
      "Tails\n"
     ]
    }
   ],
   "source": [
    "import random\n",
    "\n",
    "random_score=random.randint(0,1)\n",
    "\n",
    "if random_score == 1:\n",
    "    print(\"Heads\")\n",
    "else:\n",
    "    print(\"Tails\")"
   ]
  },
  {
   "cell_type": "code",
   "execution_count": 30,
   "metadata": {},
   "outputs": [
    {
     "data": {
      "text/plain": [
       "'Andhra Pradesh'"
      ]
     },
     "execution_count": 30,
     "metadata": {},
     "output_type": "execute_result"
    }
   ],
   "source": [
    "# Data Structures in python\n",
    "# List is a data structure - way of organizing and storing the data\n",
    "# data that may have some sort of connection with each other and stored in a list\n",
    "# name of the states in the usa is save in the list named states\n",
    "# list can store any data types in it\n",
    "# syntax is as follows fruits = [\"cherry\",10,\"apple\",5]\n",
    "\n",
    "state1=\"Arunachal Pradesh\"\n",
    "state2=\"Andhrapradesh\"\n",
    "\n",
    "states_of_india=[\"Andhra Pradesh\", \"Arunachal Pradesh\", \"Assam\", \"Bihar\", \"Chhattisgarh\", \"Goa\", \"Gujarat\", \"Haryana\", \"Himachal Pradesh\", \"Jharkhand\", \"Karnataka\", \"Kerala\", \"Madhya Pradesh\", \"Maharashtra\", \"Manipur\", \"Meghalaya\", \"Mizoram\", \"Nagaland\", \"Odisha\", \"Punjab\", \"Rajasthan\", \"Sikkim\", \"Tamil Nadu\", \"Telangana\", \"Tripura\", \"Uttar Pradesh\", \"Uttarakhand\", \"West Bengal\"]\n",
    "\n",
    "states_of_india[0] # list[address] # list starts with zero\n",
    "\n",
    "# append funtion is used to add an item to the end of the list"
   ]
  },
  {
   "cell_type": "code",
   "execution_count": 31,
   "metadata": {},
   "outputs": [
    {
     "data": {
      "text/plain": [
       "'Madhya Pradesh'"
      ]
     },
     "execution_count": 31,
     "metadata": {},
     "output_type": "execute_result"
    }
   ],
   "source": [
    "# choice function to select a random state from indian states\n",
    "random.choice(states_of_india)"
   ]
  },
  {
   "cell_type": "markdown",
   "metadata": {},
   "source": [
    "Exercise 2 -\n",
    "You are going to write a program that will select a random name from a list of names. The person selected will have to pay for everybody's food bill.\n",
    "\n",
    "Important: You are not allowed to use the choice() function.\n",
    "\n",
    "Line 8 splits the string names_string into individual names and puts them inside a List called names. For this to work, you must enter all the names as names followed by comma then space. e.g. name, name, name"
   ]
  },
  {
   "cell_type": "code",
   "execution_count": 32,
   "metadata": {},
   "outputs": [
    {
     "data": {
      "text/plain": [
       "'shahid,sunil,fateen'"
      ]
     },
     "execution_count": 32,
     "metadata": {},
     "output_type": "execute_result"
    }
   ],
   "source": [
    "# Import the random module here\n",
    "import random\n",
    "# Split string method\n",
    "names_string = input(\"Give me everybody's names, separated by a comma. \")\n",
    "names = names_string.split(\", \")\n",
    "# 🚨 Don't change the code above 👆\n",
    "\n",
    "#Write your code below this line 👇\n",
    "\n",
    "length=len(names)\n",
    "\n",
    "pay_bill=random.randint(0,length)\n",
    "\n",
    "names[pay_bill]\n"
   ]
  },
  {
   "cell_type": "code",
   "execution_count": 36,
   "metadata": {},
   "outputs": [
    {
     "name": "stdout",
     "output_type": "stream",
     "text": [
      "0\n"
     ]
    }
   ],
   "source": [
    "# Import the random module here\n",
    "import random\n",
    "# Split string method\n",
    "names_string = input(\"Give me everybody's names, separated by a comma. \")\n",
    "names = names_string.split(\", \")\n",
    "# 🚨 Don't change the code above 👆\n",
    "\n",
    "#Write your code below this line 👇\n",
    "\n",
    "num_items = len(names)\n",
    "\n",
    "random_choice=random.randint(0, num_items-1)\n",
    "\n",
    "person_who_will_pay=names[random_choice]\n",
    "\n",
    "print(person_who_will_pay + \"is going to buy the meal today\")\n"
   ]
  },
  {
   "cell_type": "code",
   "execution_count": 39,
   "metadata": {},
   "outputs": [
    {
     "name": "stdout",
     "output_type": "stream",
     "text": [
      "28\n"
     ]
    },
    {
     "ename": "IndexError",
     "evalue": "list index out of range",
     "output_type": "error",
     "traceback": [
      "\u001b[1;31m---------------------------------------------------------------------------\u001b[0m",
      "\u001b[1;31mIndexError\u001b[0m                                Traceback (most recent call last)",
      "Cell \u001b[1;32mIn[39], line 7\u001b[0m\n\u001b[0;32m      3\u001b[0m \u001b[39m# indexerror can be more confusing and can be mor painful\u001b[39;00m\n\u001b[0;32m      5\u001b[0m length\u001b[39m=\u001b[39m\u001b[39mlen\u001b[39m(states_of_india)\n\u001b[1;32m----> 7\u001b[0m \u001b[39mprint\u001b[39m(states_of_india[length])\n",
      "\u001b[1;31mIndexError\u001b[0m: list index out of range"
     ]
    }
   ],
   "source": [
    "print(len(states_of_india))\n",
    "\n",
    "# indexerror can be more confusing and can be mor painful\n",
    "\n",
    "length=len(states_of_india)\n",
    "\n",
    "print(states_of_india[length])\n"
   ]
  },
  {
   "cell_type": "code",
   "execution_count": 40,
   "metadata": {},
   "outputs": [
    {
     "name": "stdout",
     "output_type": "stream",
     "text": [
      "28\n",
      "West Bengal\n"
     ]
    }
   ],
   "source": [
    "# to avoid the above error all we need to do is -1\n",
    "print(len(states_of_india))\n",
    "\n",
    "# indexerror can be more confusing and can be mor painful\n",
    "\n",
    "length=len(states_of_india)\n",
    "\n",
    "print(states_of_india[length-1])\n"
   ]
  },
  {
   "cell_type": "code",
   "execution_count": 45,
   "metadata": {},
   "outputs": [
    {
     "name": "stdout",
     "output_type": "stream",
     "text": [
      "[['Strawberries', 'Nectarines', 'Apples', 'Grapes', 'Peaches', 'Cherries', 'Pears'], ['Spinach', 'Kale', 'Tomatoes', 'Celery', 'Potatoes']]\n",
      "Kale\n"
     ]
    }
   ],
   "source": [
    "# dirty dozen - list of frozen veggies that has more pesticides\n",
    "\n",
    "dirty_dozen = [\"Strawberries\",\"Nectarines\",\"Apples\",\"Grapes\",\"Peaches\",\"Cherries\",\"Pears\",\"Spinach\",\"Kale\",\"Tomatoes\",\"Celery\",\"Potatoes\"]\n",
    "\n",
    "fruits = [\"Strawberries\",\"Nectarines\",\"Apples\",\"Grapes\",\"Peaches\",\"Cherries\",\"Pears\"]\n",
    "vegetables = [\"Spinach\",\"Kale\",\"Tomatoes\",\"Celery\",\"Potatoes\"]\n",
    "\n",
    "Nested_list=[fruits,vegetables]\n",
    "print(Nested_list)\n",
    "\n",
    "print(Nested_list[1][1])"
   ]
  },
  {
   "cell_type": "markdown",
   "metadata": {},
   "source": [
    "You are going to write a program that will mark a spot with an X.\n",
    "\n",
    "In the starting code, you will find a variable called map.\n",
    "\n",
    "This map contains a nested list. When map is printed this is what the nested list looks like:\n",
    "\n",
    "[['⬜️', '⬜️', '⬜️'],['⬜️', '⬜️', '⬜️'],['⬜️', '⬜️', '⬜️']]\n",
    "\n",
    "This is a bit hard to work with. So on lines 6 and 23, we've used this line of code print(f\"{row1}\\n{row2}\\n{row3}\" to format the 3 lists to be printed as a 3 by 3 square, each on a new line. \n",
    "\n",
    "['⬜️', '⬜️', '⬜️']\n",
    "\n",
    "['⬜️', '⬜️', '⬜️']\n",
    "\n",
    "['⬜️', '⬜️', '⬜️']\n",
    "\n",
    "Now it looks a bit more like the coordinates of a real map:\n",
    "\n",
    "\n",
    "\n",
    "Your job is to write a program that allows you to mark a square on the map using a two-digit system. \n",
    "\n",
    "The first digit in the input will specify the column (the position on the horizontal axis).\n",
    "\n",
    "The second digit in the input will specify the row number (the position on the vertical axis). \n",
    "\n",
    "So an input of 23 should place an X at the position shown below:"
   ]
  },
  {
   "cell_type": "code",
   "execution_count": 3,
   "metadata": {},
   "outputs": [
    {
     "name": "stdout",
     "output_type": "stream",
     "text": [
      "['⬜️', '️⬜️', '️⬜️']\n",
      "['⬜️', '⬜️', '️⬜️']\n",
      "['⬜️️', '⬜️️', '⬜️️']\n",
      "['⬜️', '️⬜️', '️⬜️']\n",
      "['X', '⬜️', '️⬜️']\n",
      "['⬜️️', '⬜️️', '⬜️️']\n"
     ]
    }
   ],
   "source": [
    "# 🚨 Don't change the code below 👇\n",
    "row1 = [\"⬜️\",\"️⬜️\",\"️⬜️\"]\n",
    "row2 = [\"⬜️\",\"⬜️\",\"️⬜️\"]\n",
    "row3 = [\"⬜️️\",\"⬜️️\",\"⬜️️\"]\n",
    "map = [row1, row2, row3]\n",
    "print(f\"{row1}\\n{row2}\\n{row3}\")\n",
    "position = input(\"Where do you want to put the treasure? \")\n",
    "# 🚨 Don't change the code above 👆\n",
    "\n",
    "#Write your code below this row 👇\n",
    "column=int(position[0])\n",
    "row=int(position[1])\n",
    "\n",
    "map[row-1][column-1] = \"X\" # matrices indexes are used here for getting x in requied point\n",
    "\n",
    "#Write your code above this row 👆\n",
    "\n",
    "# 🚨 Don't change the code below 👇\n",
    "print(f\"{row1}\\n{row2}\\n{row3}\")\n"
   ]
  },
  {
   "cell_type": "code",
   "execution_count": 6,
   "metadata": {},
   "outputs": [
    {
     "name": "stdout",
     "output_type": "stream",
     "text": [
      "\n",
      "    _______\n",
      "---'   ____)\n",
      "      (_____)\n",
      "      (_____)\n",
      "      (____)\n",
      "---.__(___)\n",
      "\n",
      "\n",
      "    _______\n",
      "---'   ____)____\n",
      "          ______)\n",
      "          _______)\n",
      "         _______)\n",
      "---.__________)\n",
      "\n",
      "\n",
      "    _______\n",
      "---'   ____)____\n",
      "          ______)\n",
      "       __________)\n",
      "      (____)\n",
      "---.__(___)\n",
      "\n"
     ]
    }
   ],
   "source": [
    "rock = '''\n",
    "    _______\n",
    "---'   ____)\n",
    "      (_____)\n",
    "      (_____)\n",
    "      (____)\n",
    "---.__(___)\n",
    "'''\n",
    "\n",
    "paper = '''\n",
    "    _______\n",
    "---'   ____)____\n",
    "          ______)\n",
    "          _______)\n",
    "         _______)\n",
    "---.__________)\n",
    "'''\n",
    "\n",
    "scissors = '''\n",
    "    _______\n",
    "---'   ____)____\n",
    "          ______)\n",
    "       __________)\n",
    "      (____)\n",
    "---.__(___)\n",
    "'''\n",
    "\n",
    "#Write your code below this line 👇\n",
    "\n",
    "print(rock)\n",
    "print(paper)\n",
    "print(scissors)"
   ]
  },
  {
   "cell_type": "markdown",
   "metadata": {},
   "source": []
  },
  {
   "cell_type": "code",
   "execution_count": 15,
   "metadata": {},
   "outputs": [
    {
     "name": "stdout",
     "output_type": "stream",
     "text": [
      "\n",
      "    _______\n",
      "---'   ____)____\n",
      "          ______)\n",
      "          _______)\n",
      "         _______)\n",
      "---.__________)\n",
      "\n"
     ]
    }
   ],
   "source": [
    "rock = '''\n",
    "    _______\n",
    "---'   ____)\n",
    "      (_____)\n",
    "      (_____)\n",
    "      (____)\n",
    "---.__(___)\n",
    "'''\n",
    "\n",
    "paper = '''\n",
    "    _______\n",
    "---'   ____)____\n",
    "          ______)\n",
    "          _______)\n",
    "         _______)\n",
    "---.__________)\n",
    "'''\n",
    "\n",
    "scissors = '''\n",
    "    _______\n",
    "---'   ____)____\n",
    "          ______)\n",
    "       __________)\n",
    "      (____)\n",
    "---.__(___)\n",
    "'''\n",
    "\n",
    "#Write your code below this line 👇\n",
    "import random\n",
    "\n",
    "list=[\"rock\",\"paper\",\"scisssor\"]\n",
    "\n",
    "user_input=input(\"What do you choose? Type 0 for'Rock' , 1 for 'Paper' or 2 for 'Scissors'\")\n",
    "\n",
    "computer_choice=random.randint(0,3)\n",
    "\n",
    "if user_input == 0 and computer_choice == 2:\n",
    "    print( '''\n",
    "    _______\n",
    "---'   ____)\n",
    "      (_____)\n",
    "      (_____)\n",
    "      (____)\n",
    "---.__(___)\n",
    "'''\n",
    ")\n",
    "elif computer_choice > user_input:\n",
    "    print(\"Commputer Wins!\")\n",
    "elif user_input == 1 and  computer_choice == 1:\n",
    "    print( '''\n",
    "    _______\n",
    "---'   ____)____\n",
    "          ______)\n",
    "          _______)\n",
    "         _______)\n",
    "---.__________)\n",
    "''')\n",
    "elif user_input == 3:\n",
    "    print( '''\n",
    "    _______\n",
    "---'   ____)____\n",
    "          ______)\n",
    "       __________)\n",
    "      (____)\n",
    "---.__(___)\n",
    "''')\n",
    "else:\n",
    "    print(\"you have entered the wrong input\")\n"
   ]
  },
  {
   "cell_type": "code",
   "execution_count": 28,
   "metadata": {},
   "outputs": [
    {
     "name": "stdout",
     "output_type": "stream",
     "text": [
      "\n",
      "    _______\n",
      "---'   ____)____\n",
      "          ______)\n",
      "          _______)\n",
      "         _______)\n",
      "---.__________)\n",
      "\n",
      "computer choose:\n",
      "\n",
      "    _______\n",
      "---'   ____)____\n",
      "          ______)\n",
      "          _______)\n",
      "         _______)\n",
      "---.__________)\n",
      "\n",
      "It's a draw\n"
     ]
    }
   ],
   "source": [
    "rock = '''\n",
    "    _______\n",
    "---'   ____)\n",
    "      (_____)\n",
    "      (_____)\n",
    "      (____)\n",
    "---.__(___)\n",
    "'''\n",
    "\n",
    "paper = '''\n",
    "    _______\n",
    "---'   ____)____\n",
    "          ______)\n",
    "          _______)\n",
    "         _______)\n",
    "---.__________)\n",
    "'''\n",
    "\n",
    "scissors = '''\n",
    "    _______\n",
    "---'   ____)____\n",
    "          ______)\n",
    "       __________)\n",
    "      (____)\n",
    "---.__(___)\n",
    "'''\n",
    "\n",
    "#Write your code below this line 👇\n",
    "import random\n",
    "\n",
    "game_images = [rock,paper,scissors]\n",
    "\n",
    "user_input=int(input(\"What do you choose? Type 0 for'Rock' , 1 for 'Paper' or 2 for 'Scissors'\"))\n",
    "if user_input > 3 or user_input < 0:\n",
    "    print(\"please enter the incorrect input values\")\n",
    "else:\n",
    "    print(game_images[user_input])\n",
    "    computer_choice=random.randint(0,3)\n",
    "    print(\"computer choose:\")\n",
    "    print(game_images[computer_choice])\n",
    "\n",
    "\n",
    "    if user_input == 0 and computer_choice == 2:\n",
    "        print(\"you win!\")\n",
    "    elif computer_choice == 0 and user_input == 0:\n",
    "        print(\"you lose\")\n",
    "    elif computer_choice > user_input:\n",
    "        print(\"you lose\")\n",
    "    elif computer_choice == user_input:\n",
    "        print(\"It's a draw\")\n",
    "\n"
   ]
  },
  {
   "cell_type": "code",
   "execution_count": 27,
   "metadata": {},
   "outputs": [
    {
     "name": "stdout",
     "output_type": "stream",
     "text": [
      "\n",
      "    _______\n",
      "---'   ____)____\n",
      "          ______)\n",
      "       __________)\n",
      "      (____)\n",
      "---.__(___)\n",
      "\n",
      "computer choose:\n",
      "\n",
      "    _______\n",
      "---'   ____)\n",
      "      (_____)\n",
      "      (_____)\n",
      "      (____)\n",
      "---.__(___)\n",
      "\n"
     ]
    }
   ],
   "source": [
    "rock = '''\n",
    "    _______\n",
    "---'   ____)\n",
    "      (_____)\n",
    "      (_____)\n",
    "      (____)\n",
    "---.__(___)\n",
    "'''\n",
    "\n",
    "paper = '''\n",
    "    _______\n",
    "---'   ____)____\n",
    "          ______)\n",
    "          _______)\n",
    "         _______)\n",
    "---.__________)\n",
    "'''\n",
    "\n",
    "scissors = '''\n",
    "    _______\n",
    "---'   ____)____\n",
    "          ______)\n",
    "       __________)\n",
    "      (____)\n",
    "---.__(___)\n",
    "'''\n",
    "\n",
    "#Write your code below this line 👇\n",
    "import random\n",
    "\n",
    "game_images = [rock,paper,scissors]\n",
    "\n",
    "user_input=int(input(\"What do you choose? Type 0 for'Rock' , 1 for 'Paper' or 2 for 'Scissors'\"))\n",
    "\n",
    "if user_input > 3 or user_input < 0:\n",
    "    print(\"please enter the incorrect input values\")\n",
    "else:\n",
    "    print(game_images[user_input])\n",
    "    computer_choice=random.randint(0,2)\n",
    "    print(\"computer choose:\")\n",
    "    print(game_images[computer_choice])\n",
    "\n",
    "if user_input == 0 and computer_choice == 2:\n",
    "    print(\"you win!\")\n",
    "elif computer_choice == 0 and user_input == 0:\n",
    "    print(\"you lose\")\n",
    "elif computer_choice > user_input:\n",
    "    print(\"you lose\")\n",
    "elif computer_choice == user_input:\n",
    "    print(\"It's a draw\")"
   ]
  },
  {
   "cell_type": "code",
   "execution_count": null,
   "metadata": {},
   "outputs": [],
   "source": []
  }
 ],
 "metadata": {
  "kernelspec": {
   "display_name": "Python 3",
   "language": "python",
   "name": "python3"
  },
  "language_info": {
   "codemirror_mode": {
    "name": "ipython",
    "version": 3
   },
   "file_extension": ".py",
   "mimetype": "text/x-python",
   "name": "python",
   "nbconvert_exporter": "python",
   "pygments_lexer": "ipython3",
   "version": "3.11.4"
  },
  "orig_nbformat": 4
 },
 "nbformat": 4,
 "nbformat_minor": 2
}
