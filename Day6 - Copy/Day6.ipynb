{
 "cells": [
  {
   "cell_type": "markdown",
   "metadata": {},
   "source": [
    "# Day 6 - 100 Days of code\n",
    "\n",
    "Code Blocks\n",
    "Functions and\n",
    "While Loops\n",
    "Karel the Robot\n",
    "Randomly Generated Maze Completion By Our Robot\n"
   ]
  },
  {
   "cell_type": "code",
   "execution_count": 1,
   "metadata": {},
   "outputs": [],
   "source": [
    "# Built-in Functions len(),choice(),print(),raange()...\n",
    "# sytax is name of the function()\n",
    "# Making our own functions\n",
    "\n",
    "def my_function():\n",
    "    print(\"hello\")\n",
    "    print(\"Bye\")\n",
    "\n",
    "# nothing will happen untill we execute or trigger it using calling the funnction"
   ]
  },
  {
   "cell_type": "code",
   "execution_count": 3,
   "metadata": {},
   "outputs": [
    {
     "name": "stdout",
     "output_type": "stream",
     "text": [
      "hello\n",
      "Bye\n"
     ]
    }
   ],
   "source": [
    "def my_function():\n",
    "    print(\"hello\")\n",
    "    print(\"Bye\")\n",
    "\n",
    "my_function()\n",
    "\n",
    "# Defining the Function\n",
    "# Do this , Then Do this and Finally Do this\n",
    "# Calling a Function"
   ]
  },
  {
   "cell_type": "code",
   "execution_count": null,
   "metadata": {},
   "outputs": [],
   "source": [
    "# To learn about function go with karel the robot\n",
    "# giving robot spcific instruction to buy milk from the nearest store\n",
    "# creating a function and bundling the instructions together works repeatedly\n",
    "# the hurdles loop challenge\n",
    "def turn_right():\n",
    "    turn_left()\n",
    "    turn_left()\n",
    "    turn_left()\n",
    "def hurdle_1():\n",
    "    turn_left()\n",
    "    move()\n",
    "    turn_right()\n",
    "    move()\n",
    "    turn_right()\n",
    "    move()\n",
    "def hurdle_2():\n",
    "    turn_left()\n",
    "    move()\n",
    "    turn_left()\n",
    "    move()\n",
    "    turn_right()\n",
    "    move()\n",
    "    turn_right()\n",
    "    move()\n",
    "def path():\n",
    "    move()  \n",
    "    hurdle_1()\n",
    "    hurdle_2()\n",
    "    hurdle_2()\n",
    "    hurdle_2()\n",
    "    hurdle_2()\n",
    "    hurdle_2()\n",
    "\n",
    "path()\n",
    "\n",
    "\n",
    "try this @():\n",
    "    https://reeborg.ca/reeborg.html?lang=en&mode=python&menu=worlds%2Fmenus%2Freeborg_intro_en.json&name=Hurdle%201&url=worlds%2Ftutorial_en%2Fhurdle1.json"
   ]
  },
  {
   "cell_type": "code",
   "execution_count": null,
   "metadata": {},
   "outputs": [],
   "source": [
    "# Indentation In Python\n",
    "\n",
    "# inside a function the code that belongs to the function should be indented\n",
    "# File structure describes the indentation\n",
    "# indentation has 4 spaces to be left\n",
    "# Spaces vs Tabs\n",
    "# Official guide suggests spaces for indentation\n",
    "# in python 3 you cannot integrate different code files which has tabs and space for indentation"
   ]
  },
  {
   "cell_type": "code",
   "execution_count": 14,
   "metadata": {},
   "outputs": [
    {
     "name": "stdout",
     "output_type": "stream",
     "text": [
      "0\n"
     ]
    }
   ],
   "source": [
    "# While Loops\n",
    "# the loop that will continuely going while a particular condition is true\n",
    "# while plugged in charge upto 80% then stop\n",
    "import random\n",
    "\n",
    "battery_percentage = 0\n",
    "\n",
    "while battery_percentage >= 80:\n",
    "    battery_percentage += random.choice(range(1,81))\n",
    "    print(\"needs some more time to charge\") \n",
    "print(battery_percentage)"
   ]
  },
  {
   "cell_type": "code",
   "execution_count": null,
   "metadata": {},
   "outputs": [],
   "source": []
  },
  {
   "cell_type": "code",
   "execution_count": null,
   "metadata": {},
   "outputs": [],
   "source": []
  },
  {
   "cell_type": "code",
   "execution_count": null,
   "metadata": {},
   "outputs": [],
   "source": []
  }
 ],
 "metadata": {
  "kernelspec": {
   "display_name": "Python 3",
   "language": "python",
   "name": "python3"
  },
  "language_info": {
   "codemirror_mode": {
    "name": "ipython",
    "version": 3
   },
   "file_extension": ".py",
   "mimetype": "text/x-python",
   "name": "python",
   "nbconvert_exporter": "python",
   "pygments_lexer": "ipython3",
   "version": "3.11.4"
  },
  "orig_nbformat": 4
 },
 "nbformat": 4,
 "nbformat_minor": 2
}
